{
 "cells": [
  {
   "cell_type": "code",
   "execution_count": 1,
   "id": "4ff88377",
   "metadata": {},
   "outputs": [],
   "source": [
    "import pymysql\n",
    "from sqlalchemy import create_engine\n",
    "import pandas as pd\n",
    "import getpass\n",
    "import seaborn as sns\n",
    "import matplotlib.pyplot as plt\n",
    "from sklearn.preprocessing import StandardScaler\n",
    "import numpy as np\n",
    "from scipy import stats\n",
    "from sklearn.preprocessing import Normalizer\n",
    "from sklearn.preprocessing import OneHotEncoder\n",
    "import statsmodels.api as sm\n",
    "from sklearn.metrics import r2_score\n",
    "from sklearn.model_selection import train_test_split\n",
    "from sklearn import linear_model\n",
    "from sklearn.neighbors import KNeighborsRegressor\n",
    "from sklearn.linear_model import LinearRegression\n",
    "from sklearn.neural_network import MLPRegressor"
   ]
  },
  {
   "cell_type": "code",
   "execution_count": 2,
   "id": "9c449149",
   "metadata": {},
   "outputs": [],
   "source": [
    "##1. In this final lab, we will model our data. Import sklearn train_test_split and separate the data."
   ]
  },
  {
   "cell_type": "code",
   "execution_count": 3,
   "id": "dcc0e4f8",
   "metadata": {},
   "outputs": [],
   "source": [
    "X=pd.read_csv(\"numerical_onehot.csv\")\n",
    "y=pd.read_csv(\"Y.csv\")\n",
    "X.drop('Unnamed: 0', axis=1, inplace=True)"
   ]
  },
  {
   "cell_type": "code",
   "execution_count": 4,
   "id": "f34a33c7",
   "metadata": {},
   "outputs": [
    {
     "data": {
      "text/html": [
       "<div>\n",
       "<style scoped>\n",
       "    .dataframe tbody tr th:only-of-type {\n",
       "        vertical-align: middle;\n",
       "    }\n",
       "\n",
       "    .dataframe tbody tr th {\n",
       "        vertical-align: top;\n",
       "    }\n",
       "\n",
       "    .dataframe thead th {\n",
       "        text-align: right;\n",
       "    }\n",
       "</style>\n",
       "<table border=\"1\" class=\"dataframe\">\n",
       "  <thead>\n",
       "    <tr style=\"text-align: right;\">\n",
       "      <th></th>\n",
       "      <th>0</th>\n",
       "      <th>1</th>\n",
       "      <th>2</th>\n",
       "      <th>3</th>\n",
       "      <th>4</th>\n",
       "      <th>5</th>\n",
       "      <th>6</th>\n",
       "      <th>7</th>\n",
       "      <th>8</th>\n",
       "      <th>9</th>\n",
       "      <th>...</th>\n",
       "      <th>99</th>\n",
       "      <th>100</th>\n",
       "      <th>101</th>\n",
       "      <th>102</th>\n",
       "      <th>103</th>\n",
       "      <th>104</th>\n",
       "      <th>105</th>\n",
       "      <th>106</th>\n",
       "      <th>107</th>\n",
       "      <th>108</th>\n",
       "    </tr>\n",
       "  </thead>\n",
       "  <tbody>\n",
       "    <tr>\n",
       "      <th>0</th>\n",
       "      <td>69.0</td>\n",
       "      <td>32.0</td>\n",
       "      <td>5.0</td>\n",
       "      <td>0.0</td>\n",
       "      <td>1.0</td>\n",
       "      <td>0.0</td>\n",
       "      <td>0.0</td>\n",
       "      <td>0.0</td>\n",
       "      <td>0.0</td>\n",
       "      <td>1.0</td>\n",
       "      <td>...</td>\n",
       "      <td>1.0</td>\n",
       "      <td>0.0</td>\n",
       "      <td>0.0</td>\n",
       "      <td>0.0</td>\n",
       "      <td>0.0</td>\n",
       "      <td>0.0</td>\n",
       "      <td>0.0</td>\n",
       "      <td>0.0</td>\n",
       "      <td>0.0</td>\n",
       "      <td>1.0</td>\n",
       "    </tr>\n",
       "    <tr>\n",
       "      <th>1</th>\n",
       "      <td>94.0</td>\n",
       "      <td>13.0</td>\n",
       "      <td>42.0</td>\n",
       "      <td>0.0</td>\n",
       "      <td>8.0</td>\n",
       "      <td>1.0</td>\n",
       "      <td>0.0</td>\n",
       "      <td>0.0</td>\n",
       "      <td>0.0</td>\n",
       "      <td>0.0</td>\n",
       "      <td>...</td>\n",
       "      <td>1.0</td>\n",
       "      <td>0.0</td>\n",
       "      <td>0.0</td>\n",
       "      <td>0.0</td>\n",
       "      <td>1.0</td>\n",
       "      <td>0.0</td>\n",
       "      <td>0.0</td>\n",
       "      <td>0.0</td>\n",
       "      <td>0.0</td>\n",
       "      <td>0.0</td>\n",
       "    </tr>\n",
       "    <tr>\n",
       "      <th>2</th>\n",
       "      <td>108.0</td>\n",
       "      <td>18.0</td>\n",
       "      <td>38.0</td>\n",
       "      <td>0.0</td>\n",
       "      <td>2.0</td>\n",
       "      <td>0.0</td>\n",
       "      <td>0.0</td>\n",
       "      <td>1.0</td>\n",
       "      <td>0.0</td>\n",
       "      <td>0.0</td>\n",
       "      <td>...</td>\n",
       "      <td>1.0</td>\n",
       "      <td>0.0</td>\n",
       "      <td>0.0</td>\n",
       "      <td>0.0</td>\n",
       "      <td>0.0</td>\n",
       "      <td>0.0</td>\n",
       "      <td>0.0</td>\n",
       "      <td>0.0</td>\n",
       "      <td>0.0</td>\n",
       "      <td>1.0</td>\n",
       "    </tr>\n",
       "  </tbody>\n",
       "</table>\n",
       "<p>3 rows × 109 columns</p>\n",
       "</div>"
      ],
      "text/plain": [
       "       0     1     2    3    4    5    6    7    8    9  ...   99  100  101  \\\n",
       "0   69.0  32.0   5.0  0.0  1.0  0.0  0.0  0.0  0.0  1.0  ...  1.0  0.0  0.0   \n",
       "1   94.0  13.0  42.0  0.0  8.0  1.0  0.0  0.0  0.0  0.0  ...  1.0  0.0  0.0   \n",
       "2  108.0  18.0  38.0  0.0  2.0  0.0  0.0  1.0  0.0  0.0  ...  1.0  0.0  0.0   \n",
       "\n",
       "   102  103  104  105  106  107  108  \n",
       "0  0.0  0.0  0.0  0.0  0.0  0.0  1.0  \n",
       "1  0.0  1.0  0.0  0.0  0.0  0.0  0.0  \n",
       "2  0.0  0.0  0.0  0.0  0.0  0.0  1.0  \n",
       "\n",
       "[3 rows x 109 columns]"
      ]
     },
     "execution_count": 4,
     "metadata": {},
     "output_type": "execute_result"
    }
   ],
   "source": [
    "X.head(3)"
   ]
  },
  {
   "cell_type": "code",
   "execution_count": 5,
   "id": "ad29c583",
   "metadata": {},
   "outputs": [
    {
     "data": {
      "text/html": [
       "<div>\n",
       "<style scoped>\n",
       "    .dataframe tbody tr th:only-of-type {\n",
       "        vertical-align: middle;\n",
       "    }\n",
       "\n",
       "    .dataframe tbody tr th {\n",
       "        vertical-align: top;\n",
       "    }\n",
       "\n",
       "    .dataframe thead th {\n",
       "        text-align: right;\n",
       "    }\n",
       "</style>\n",
       "<table border=\"1\" class=\"dataframe\">\n",
       "  <thead>\n",
       "    <tr style=\"text-align: right;\">\n",
       "      <th></th>\n",
       "      <th>total_claim_amount</th>\n",
       "    </tr>\n",
       "  </thead>\n",
       "  <tbody>\n",
       "    <tr>\n",
       "      <th>0</th>\n",
       "      <td>384</td>\n",
       "    </tr>\n",
       "    <tr>\n",
       "      <th>1</th>\n",
       "      <td>1131</td>\n",
       "    </tr>\n",
       "    <tr>\n",
       "      <th>2</th>\n",
       "      <td>566</td>\n",
       "    </tr>\n",
       "  </tbody>\n",
       "</table>\n",
       "</div>"
      ],
      "text/plain": [
       "   total_claim_amount\n",
       "0                 384\n",
       "1                1131\n",
       "2                 566"
      ]
     },
     "execution_count": 5,
     "metadata": {},
     "output_type": "execute_result"
    }
   ],
   "source": [
    "y.head(3)"
   ]
  },
  {
   "cell_type": "code",
   "execution_count": 6,
   "id": "0b6f9263",
   "metadata": {},
   "outputs": [],
   "source": [
    "#2. Try a simple linear regression with all the data to see whether we are getting good results."
   ]
  },
  {
   "cell_type": "code",
   "execution_count": 7,
   "id": "aac698e9",
   "metadata": {},
   "outputs": [],
   "source": [
    "X_train, X_test, y_train, y_test = train_test_split(X,y,test_size=0.4,random_state=100)"
   ]
  },
  {
   "cell_type": "code",
   "execution_count": 8,
   "id": "6bed2d2f",
   "metadata": {},
   "outputs": [
    {
     "data": {
      "text/plain": [
       "0.7672114436691372"
      ]
     },
     "execution_count": 8,
     "metadata": {},
     "output_type": "execute_result"
    }
   ],
   "source": [
    "lm=linear_model.LinearRegression()\n",
    "model=lm.fit(X_train,y_train)\n",
    "predictions=lm.predict(X_test)\n",
    "r2_score(y_test,predictions)"
   ]
  },
  {
   "cell_type": "code",
   "execution_count": 9,
   "id": "357d49e3",
   "metadata": {},
   "outputs": [],
   "source": [
    "# 3 - Great! Now define a function that takes a list of models and train (and tests) them so we can try a lot of them without repeating code."
   ]
  },
  {
   "cell_type": "code",
   "execution_count": 10,
   "id": "88e681b4",
   "metadata": {},
   "outputs": [
    {
     "data": {
      "text/plain": [
       "[          0     1     2    3    4    5    6    7    8    9  ...   99  100  \\\n",
       " 0      69.0  32.0   5.0  0.0  1.0  0.0  0.0  0.0  0.0  1.0  ...  1.0  0.0   \n",
       " 1      94.0  13.0  42.0  0.0  8.0  1.0  0.0  0.0  0.0  0.0  ...  1.0  0.0   \n",
       " 2     108.0  18.0  38.0  0.0  2.0  0.0  0.0  1.0  0.0  0.0  ...  1.0  0.0   \n",
       " 3     106.0  18.0  65.0  0.0  7.0  0.0  1.0  0.0  0.0  0.0  ...  0.0  0.0   \n",
       " 4      73.0  12.0  44.0  0.0  1.0  0.0  0.0  0.0  0.0  1.0  ...  1.0  0.0   \n",
       " ...     ...   ...   ...  ...  ...  ...  ...  ...  ...  ...  ...  ...  ...   \n",
       " 9129   73.0  18.0  89.0  0.0  2.0  0.0  1.0  0.0  0.0  0.0  ...  0.0  0.0   \n",
       " 9130   79.0  14.0  28.0  0.0  1.0  0.0  1.0  0.0  0.0  0.0  ...  0.0  1.0   \n",
       " 9131   85.0   9.0  37.0  3.0  2.0  0.0  1.0  0.0  0.0  0.0  ...  0.0  1.0   \n",
       " 9132   96.0  34.0   3.0  0.0  3.0  0.0  1.0  0.0  0.0  0.0  ...  0.0  1.0   \n",
       " 9133   77.0   3.0  90.0  0.0  1.0  0.0  1.0  0.0  0.0  0.0  ...  0.0  0.0   \n",
       " \n",
       "       101  102  103  104  105  106  107  108  \n",
       " 0     0.0  0.0  0.0  0.0  0.0  0.0  0.0  1.0  \n",
       " 1     0.0  0.0  1.0  0.0  0.0  0.0  0.0  0.0  \n",
       " 2     0.0  0.0  0.0  0.0  0.0  0.0  0.0  1.0  \n",
       " 3     1.0  0.0  0.0  0.0  0.0  1.0  0.0  0.0  \n",
       " 4     0.0  0.0  1.0  0.0  0.0  0.0  0.0  0.0  \n",
       " ...   ...  ...  ...  ...  ...  ...  ...  ...  \n",
       " 9129  0.0  1.0  1.0  0.0  0.0  0.0  0.0  0.0  \n",
       " 9130  0.0  0.0  1.0  0.0  0.0  0.0  0.0  0.0  \n",
       " 9131  0.0  0.0  1.0  0.0  0.0  0.0  0.0  0.0  \n",
       " 9132  0.0  0.0  1.0  0.0  0.0  0.0  0.0  0.0  \n",
       " 9133  1.0  0.0  0.0  0.0  0.0  0.0  0.0  1.0  \n",
       " \n",
       " [9134 rows x 109 columns],\n",
       "       total_claim_amount\n",
       " 0                    384\n",
       " 1                   1131\n",
       " 2                    566\n",
       " 3                    529\n",
       " 4                    138\n",
       " ...                  ...\n",
       " 9129                 198\n",
       " 9130                 379\n",
       " 9131                 790\n",
       " 9132                 691\n",
       " 9133                 369\n",
       " \n",
       " [9134 rows x 1 columns]]"
      ]
     },
     "execution_count": 10,
     "metadata": {},
     "output_type": "execute_result"
    }
   ],
   "source": [
    "DataModels = [X,y]\n",
    "DataModels"
   ]
  },
  {
   "cell_type": "code",
   "execution_count": 11,
   "id": "4c19822b",
   "metadata": {},
   "outputs": [],
   "source": [
    "def train_test(X,y):\n",
    "    \n",
    "    X_train, X_test, y_train, y_test = train_test_split(X,y,test_size=0.4,random_state=100)\n",
    "    lm=linear_model.LinearRegression()\n",
    "    model=lm.fit(X_train,y_train)\n",
    "    predictions=lm.predict(X_test)\n",
    "\n",
    "    return r2_score(y_test,predictions)\n",
    "    "
   ]
  },
  {
   "cell_type": "code",
   "execution_count": 12,
   "id": "556de310",
   "metadata": {},
   "outputs": [
    {
     "data": {
      "text/plain": [
       "0.7672114436691372"
      ]
     },
     "execution_count": 12,
     "metadata": {},
     "output_type": "execute_result"
    }
   ],
   "source": [
    "train_test(X,y)"
   ]
  },
  {
   "cell_type": "code",
   "execution_count": 13,
   "id": "31d47234",
   "metadata": {},
   "outputs": [],
   "source": [
    "# 4. Use the function to check LinearRegressor and KNeighborsRegressor."
   ]
  },
  {
   "cell_type": "code",
   "execution_count": 14,
   "id": "110291a0",
   "metadata": {},
   "outputs": [],
   "source": [
    "def train_test(X, y, n_neighbors_Num):\n",
    "    \n",
    "    X_train, X_test, y_train, y_test = train_test_split(X, y, test_size=0.4, random_state=100)\n",
    "    lm = LinearRegression()\n",
    "    lm.fit(X_train, y_train)\n",
    "    lm_predictions = lm.predict(X_test)\n",
    "\n",
    "    kmodel = KNeighborsRegressor(n_neighbors=int(n_neighbors_Num))\n",
    "    kmodel.fit(X_train, y_train)\n",
    "    knn_predictions = kmodel.predict(X_test)\n",
    "    \n",
    "    return \"R2 Score is \" + str(r2_score(y_test, lm_predictions)) +\" and \"+ \"KNeighborsRegressor is \" + str(kmodel.score(X_test, y_test))\n"
   ]
  },
  {
   "cell_type": "code",
   "execution_count": 15,
   "id": "65642673",
   "metadata": {},
   "outputs": [
    {
     "data": {
      "text/plain": [
       "'R2 Score is 0.7672114436691372 and KNeighborsRegressor is 0.3235186826415971'"
      ]
     },
     "execution_count": 15,
     "metadata": {},
     "output_type": "execute_result"
    }
   ],
   "source": [
    "train_test(X,y,6)"
   ]
  },
  {
   "cell_type": "code",
   "execution_count": 16,
   "id": "877babe6",
   "metadata": {},
   "outputs": [],
   "source": [
    "#5. You can check also the MLPRegressor for this task!"
   ]
  },
  {
   "cell_type": "code",
   "execution_count": 17,
   "id": "72b50f3a",
   "metadata": {},
   "outputs": [],
   "source": [
    "def train_test(X, y, n_neighbors_Num, hidden_layer_sizes=(100,)):\n",
    "    \n",
    "    X_train, X_test, y_train, y_test = train_test_split(X, y, test_size=0.4, random_state=100)\n",
    "    \n",
    "    lm = LinearRegression()\n",
    "    lm.fit(X_train, y_train)\n",
    "    lm_predictions = lm.predict(X_test)\n",
    "\n",
    "    kmodel = KNeighborsRegressor(n_neighbors=int(n_neighbors_Num))\n",
    "    kmodel.fit(X_train, y_train)\n",
    "    knn_predictions = kmodel.predict(X_test)\n",
    "\n",
    "    mlp = MLPRegressor(hidden_layer_sizes=hidden_layer_sizes, max_iter=1000)\n",
    "    mlp.fit(X_train, y_train)\n",
    "    mlp_predictions = mlp.predict(X_test)\n",
    "    \n",
    "    return \"R2 Score for Linear Regression: \" + str(r2_score(y_test, lm_predictions)) + \\\n",
    "           \"\\nR2 Score for KNeighborsRegressor: \" + str(kmodel.score(X_test, y_test)) + \\\n",
    "           \"\\nR2 Score for MLPRegressor: \" + str(r2_score(y_test, mlp_predictions))\n"
   ]
  },
  {
   "cell_type": "code",
   "execution_count": 19,
   "id": "e1e1e39c",
   "metadata": {},
   "outputs": [
    {
     "name": "stderr",
     "output_type": "stream",
     "text": [
      "C:\\Users\\ines_\\anaconda3\\lib\\site-packages\\sklearn\\neural_network\\_multilayer_perceptron.py:1599: DataConversionWarning: A column-vector y was passed when a 1d array was expected. Please change the shape of y to (n_samples, ), for example using ravel().\n",
      "  y = column_or_1d(y, warn=True)\n"
     ]
    },
    {
     "data": {
      "text/plain": [
       "'R2 Score for Linear Regression: 0.7672114436691372\\nR2 Score for KNeighborsRegressor: 0.3235186826415971\\nR2 Score for MLPRegressor: 0.8224929031085488'"
      ]
     },
     "execution_count": 19,
     "metadata": {},
     "output_type": "execute_result"
    }
   ],
   "source": [
    "train_test(X,y,6,hidden_layer_sizes=(100,))"
   ]
  }
 ],
 "metadata": {
  "kernelspec": {
   "display_name": "Python 3 (ipykernel)",
   "language": "python",
   "name": "python3"
  },
  "language_info": {
   "codemirror_mode": {
    "name": "ipython",
    "version": 3
   },
   "file_extension": ".py",
   "mimetype": "text/x-python",
   "name": "python",
   "nbconvert_exporter": "python",
   "pygments_lexer": "ipython3",
   "version": "3.9.13"
  }
 },
 "nbformat": 4,
 "nbformat_minor": 5
}
